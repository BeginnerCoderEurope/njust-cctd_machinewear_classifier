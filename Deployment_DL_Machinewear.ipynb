{
  "nbformat": 4,
  "nbformat_minor": 0,
  "metadata": {
    "colab": {
      "provenance": [],
      "authorship_tag": "ABX9TyOMF3iIftkPyKWdu21xzUyY",
      "include_colab_link": true
    },
    "kernelspec": {
      "name": "python3",
      "display_name": "Python 3"
    },
    "language_info": {
      "name": "python"
    },
    "widgets": {
      "application/vnd.jupyter.widget-state+json": {
        "fe5aec659fc04cd6bec494030413dee2": {
          "model_module": "@jupyter-widgets/controls",
          "model_name": "FileUploadModel",
          "model_module_version": "1.5.0",
          "state": {
            "_counter": 1,
            "_dom_classes": [],
            "_model_module": "@jupyter-widgets/controls",
            "_model_module_version": "1.5.0",
            "_model_name": "FileUploadModel",
            "_view_count": null,
            "_view_module": "@jupyter-widgets/controls",
            "_view_module_version": "1.5.0",
            "_view_name": "FileUploadView",
            "accept": "",
            "button_style": "",
            "data": [
              null
            ],
            "description": "Upload",
            "description_tooltip": null,
            "disabled": false,
            "error": "",
            "icon": "upload",
            "layout": "IPY_MODEL_954f0e3576b64d578fab82b6eb288628",
            "metadata": [
              {
                "name": "0002.jpg",
                "type": "image/jpeg",
                "size": 26198,
                "lastModified": 1697106600553
              }
            ],
            "multiple": false,
            "style": "IPY_MODEL_82e0f189d124462e9208ef378761f190"
          }
        },
        "954f0e3576b64d578fab82b6eb288628": {
          "model_module": "@jupyter-widgets/base",
          "model_name": "LayoutModel",
          "model_module_version": "1.2.0",
          "state": {
            "_model_module": "@jupyter-widgets/base",
            "_model_module_version": "1.2.0",
            "_model_name": "LayoutModel",
            "_view_count": null,
            "_view_module": "@jupyter-widgets/base",
            "_view_module_version": "1.2.0",
            "_view_name": "LayoutView",
            "align_content": null,
            "align_items": null,
            "align_self": null,
            "border": null,
            "bottom": null,
            "display": null,
            "flex": null,
            "flex_flow": null,
            "grid_area": null,
            "grid_auto_columns": null,
            "grid_auto_flow": null,
            "grid_auto_rows": null,
            "grid_column": null,
            "grid_gap": null,
            "grid_row": null,
            "grid_template_areas": null,
            "grid_template_columns": null,
            "grid_template_rows": null,
            "height": null,
            "justify_content": null,
            "justify_items": null,
            "left": null,
            "margin": null,
            "max_height": null,
            "max_width": null,
            "min_height": null,
            "min_width": null,
            "object_fit": null,
            "object_position": null,
            "order": null,
            "overflow": null,
            "overflow_x": null,
            "overflow_y": null,
            "padding": null,
            "right": null,
            "top": null,
            "visibility": null,
            "width": null
          }
        },
        "82e0f189d124462e9208ef378761f190": {
          "model_module": "@jupyter-widgets/controls",
          "model_name": "ButtonStyleModel",
          "model_module_version": "1.5.0",
          "state": {
            "_model_module": "@jupyter-widgets/controls",
            "_model_module_version": "1.5.0",
            "_model_name": "ButtonStyleModel",
            "_view_count": null,
            "_view_module": "@jupyter-widgets/base",
            "_view_module_version": "1.2.0",
            "_view_name": "StyleView",
            "button_color": null,
            "font_weight": ""
          }
        },
        "890f12a39c4549139ad5eeb0b30d5703": {
          "model_module": "@jupyter-widgets/output",
          "model_name": "OutputModel",
          "model_module_version": "1.0.0",
          "state": {
            "_dom_classes": [],
            "_model_module": "@jupyter-widgets/output",
            "_model_module_version": "1.0.0",
            "_model_name": "OutputModel",
            "_view_count": null,
            "_view_module": "@jupyter-widgets/output",
            "_view_module_version": "1.0.0",
            "_view_name": "OutputView",
            "layout": "IPY_MODEL_0f7982075af8445db0f54fb95c62ec61",
            "msg_id": "",
            "outputs": [
              {
                "output_type": "display_data",
                "data": {
                  "text/plain": "<PIL.Image.Image image mode=RGB size=128x77>",
                  "image/png": "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\n"
                },
                "metadata": {}
              }
            ]
          }
        },
        "0f7982075af8445db0f54fb95c62ec61": {
          "model_module": "@jupyter-widgets/base",
          "model_name": "LayoutModel",
          "model_module_version": "1.2.0",
          "state": {
            "_model_module": "@jupyter-widgets/base",
            "_model_module_version": "1.2.0",
            "_model_name": "LayoutModel",
            "_view_count": null,
            "_view_module": "@jupyter-widgets/base",
            "_view_module_version": "1.2.0",
            "_view_name": "LayoutView",
            "align_content": null,
            "align_items": null,
            "align_self": null,
            "border": null,
            "bottom": null,
            "display": null,
            "flex": null,
            "flex_flow": null,
            "grid_area": null,
            "grid_auto_columns": null,
            "grid_auto_flow": null,
            "grid_auto_rows": null,
            "grid_column": null,
            "grid_gap": null,
            "grid_row": null,
            "grid_template_areas": null,
            "grid_template_columns": null,
            "grid_template_rows": null,
            "height": null,
            "justify_content": null,
            "justify_items": null,
            "left": null,
            "margin": null,
            "max_height": null,
            "max_width": null,
            "min_height": null,
            "min_width": null,
            "object_fit": null,
            "object_position": null,
            "order": null,
            "overflow": null,
            "overflow_x": null,
            "overflow_y": null,
            "padding": null,
            "right": null,
            "top": null,
            "visibility": null,
            "width": null
          }
        },
        "744e1e70203a4b40be3b59cda979030d": {
          "model_module": "@jupyter-widgets/controls",
          "model_name": "LabelModel",
          "model_module_version": "1.5.0",
          "state": {
            "_dom_classes": [],
            "_model_module": "@jupyter-widgets/controls",
            "_model_module_version": "1.5.0",
            "_model_name": "LabelModel",
            "_view_count": null,
            "_view_module": "@jupyter-widgets/controls",
            "_view_module_version": "1.5.0",
            "_view_name": "LabelView",
            "description": "",
            "description_tooltip": null,
            "layout": "IPY_MODEL_4e5eb3dba1744be0a001961f1ea2ab07",
            "placeholder": "​",
            "style": "IPY_MODEL_7b71e74df49c4c59a27bca95c21e310f",
            "value": "Prediction: no-wear_tools; Probability: 0.9844"
          }
        },
        "4e5eb3dba1744be0a001961f1ea2ab07": {
          "model_module": "@jupyter-widgets/base",
          "model_name": "LayoutModel",
          "model_module_version": "1.2.0",
          "state": {
            "_model_module": "@jupyter-widgets/base",
            "_model_module_version": "1.2.0",
            "_model_name": "LayoutModel",
            "_view_count": null,
            "_view_module": "@jupyter-widgets/base",
            "_view_module_version": "1.2.0",
            "_view_name": "LayoutView",
            "align_content": null,
            "align_items": null,
            "align_self": null,
            "border": null,
            "bottom": null,
            "display": null,
            "flex": null,
            "flex_flow": null,
            "grid_area": null,
            "grid_auto_columns": null,
            "grid_auto_flow": null,
            "grid_auto_rows": null,
            "grid_column": null,
            "grid_gap": null,
            "grid_row": null,
            "grid_template_areas": null,
            "grid_template_columns": null,
            "grid_template_rows": null,
            "height": null,
            "justify_content": null,
            "justify_items": null,
            "left": null,
            "margin": null,
            "max_height": null,
            "max_width": null,
            "min_height": null,
            "min_width": null,
            "object_fit": null,
            "object_position": null,
            "order": null,
            "overflow": null,
            "overflow_x": null,
            "overflow_y": null,
            "padding": null,
            "right": null,
            "top": null,
            "visibility": null,
            "width": null
          }
        },
        "7b71e74df49c4c59a27bca95c21e310f": {
          "model_module": "@jupyter-widgets/controls",
          "model_name": "DescriptionStyleModel",
          "model_module_version": "1.5.0",
          "state": {
            "_model_module": "@jupyter-widgets/controls",
            "_model_module_version": "1.5.0",
            "_model_name": "DescriptionStyleModel",
            "_view_count": null,
            "_view_module": "@jupyter-widgets/base",
            "_view_module_version": "1.2.0",
            "_view_name": "StyleView",
            "description_width": ""
          }
        },
        "4079f409808b4bf498baf3d6fdeace87": {
          "model_module": "@jupyter-widgets/controls",
          "model_name": "ButtonModel",
          "model_module_version": "1.5.0",
          "state": {
            "_dom_classes": [],
            "_model_module": "@jupyter-widgets/controls",
            "_model_module_version": "1.5.0",
            "_model_name": "ButtonModel",
            "_view_count": null,
            "_view_module": "@jupyter-widgets/controls",
            "_view_module_version": "1.5.0",
            "_view_name": "ButtonView",
            "button_style": "",
            "description": "Classify",
            "disabled": false,
            "icon": "",
            "layout": "IPY_MODEL_44cbcdb009684f7bba5a3508da6660c9",
            "style": "IPY_MODEL_74ddbd513ee14f8aa825b90cfb8da4a9",
            "tooltip": ""
          }
        },
        "44cbcdb009684f7bba5a3508da6660c9": {
          "model_module": "@jupyter-widgets/base",
          "model_name": "LayoutModel",
          "model_module_version": "1.2.0",
          "state": {
            "_model_module": "@jupyter-widgets/base",
            "_model_module_version": "1.2.0",
            "_model_name": "LayoutModel",
            "_view_count": null,
            "_view_module": "@jupyter-widgets/base",
            "_view_module_version": "1.2.0",
            "_view_name": "LayoutView",
            "align_content": null,
            "align_items": null,
            "align_self": null,
            "border": null,
            "bottom": null,
            "display": null,
            "flex": null,
            "flex_flow": null,
            "grid_area": null,
            "grid_auto_columns": null,
            "grid_auto_flow": null,
            "grid_auto_rows": null,
            "grid_column": null,
            "grid_gap": null,
            "grid_row": null,
            "grid_template_areas": null,
            "grid_template_columns": null,
            "grid_template_rows": null,
            "height": null,
            "justify_content": null,
            "justify_items": null,
            "left": null,
            "margin": null,
            "max_height": null,
            "max_width": null,
            "min_height": null,
            "min_width": null,
            "object_fit": null,
            "object_position": null,
            "order": null,
            "overflow": null,
            "overflow_x": null,
            "overflow_y": null,
            "padding": null,
            "right": null,
            "top": null,
            "visibility": null,
            "width": null
          }
        },
        "74ddbd513ee14f8aa825b90cfb8da4a9": {
          "model_module": "@jupyter-widgets/controls",
          "model_name": "ButtonStyleModel",
          "model_module_version": "1.5.0",
          "state": {
            "_model_module": "@jupyter-widgets/controls",
            "_model_module_version": "1.5.0",
            "_model_name": "ButtonStyleModel",
            "_view_count": null,
            "_view_module": "@jupyter-widgets/base",
            "_view_module_version": "1.2.0",
            "_view_name": "StyleView",
            "button_color": null,
            "font_weight": ""
          }
        },
        "8804471997084ec1880104f7f76e8172": {
          "model_module": "@jupyter-widgets/controls",
          "model_name": "VBoxModel",
          "model_module_version": "1.5.0",
          "state": {
            "_dom_classes": [],
            "_model_module": "@jupyter-widgets/controls",
            "_model_module_version": "1.5.0",
            "_model_name": "VBoxModel",
            "_view_count": null,
            "_view_module": "@jupyter-widgets/controls",
            "_view_module_version": "1.5.0",
            "_view_name": "VBoxView",
            "box_style": "",
            "children": [
              "IPY_MODEL_f9666caaca974aefb893ccdd44c204d7",
              "IPY_MODEL_ac9d623388004e1c9b052f8c37b7d682",
              "IPY_MODEL_4079f409808b4bf498baf3d6fdeace87",
              "IPY_MODEL_890f12a39c4549139ad5eeb0b30d5703",
              "IPY_MODEL_744e1e70203a4b40be3b59cda979030d"
            ],
            "layout": "IPY_MODEL_7077027ec81241ff9a8a87571b2423d8"
          }
        },
        "f9666caaca974aefb893ccdd44c204d7": {
          "model_module": "@jupyter-widgets/controls",
          "model_name": "LabelModel",
          "model_module_version": "1.5.0",
          "state": {
            "_dom_classes": [],
            "_model_module": "@jupyter-widgets/controls",
            "_model_module_version": "1.5.0",
            "_model_name": "LabelModel",
            "_view_count": null,
            "_view_module": "@jupyter-widgets/controls",
            "_view_module_version": "1.5.0",
            "_view_name": "LabelView",
            "description": "",
            "description_tooltip": null,
            "layout": "IPY_MODEL_a31430cc57d249068e85506f7bc549cd",
            "placeholder": "​",
            "style": "IPY_MODEL_e57ef86a28b44fbbaabc4fab097bbeea",
            "value": "Verschleiß oder kein Verschleiß?"
          }
        },
        "ac9d623388004e1c9b052f8c37b7d682": {
          "model_module": "@jupyter-widgets/controls",
          "model_name": "FileUploadModel",
          "model_module_version": "1.5.0",
          "state": {
            "_counter": 0,
            "_dom_classes": [],
            "_model_module": "@jupyter-widgets/controls",
            "_model_module_version": "1.5.0",
            "_model_name": "FileUploadModel",
            "_view_count": null,
            "_view_module": "@jupyter-widgets/controls",
            "_view_module_version": "1.5.0",
            "_view_name": "FileUploadView",
            "accept": "",
            "button_style": "",
            "data": [],
            "description": "Upload",
            "description_tooltip": null,
            "disabled": false,
            "error": "",
            "icon": "upload",
            "layout": "IPY_MODEL_ebf4a7b24cac4f9692f39fb76ba36ab9",
            "metadata": [],
            "multiple": false,
            "style": "IPY_MODEL_89733c3ad2c443c2bbb88848909fd7f1"
          }
        },
        "7077027ec81241ff9a8a87571b2423d8": {
          "model_module": "@jupyter-widgets/base",
          "model_name": "LayoutModel",
          "model_module_version": "1.2.0",
          "state": {
            "_model_module": "@jupyter-widgets/base",
            "_model_module_version": "1.2.0",
            "_model_name": "LayoutModel",
            "_view_count": null,
            "_view_module": "@jupyter-widgets/base",
            "_view_module_version": "1.2.0",
            "_view_name": "LayoutView",
            "align_content": null,
            "align_items": null,
            "align_self": null,
            "border": null,
            "bottom": null,
            "display": null,
            "flex": null,
            "flex_flow": null,
            "grid_area": null,
            "grid_auto_columns": null,
            "grid_auto_flow": null,
            "grid_auto_rows": null,
            "grid_column": null,
            "grid_gap": null,
            "grid_row": null,
            "grid_template_areas": null,
            "grid_template_columns": null,
            "grid_template_rows": null,
            "height": null,
            "justify_content": null,
            "justify_items": null,
            "left": null,
            "margin": null,
            "max_height": null,
            "max_width": null,
            "min_height": null,
            "min_width": null,
            "object_fit": null,
            "object_position": null,
            "order": null,
            "overflow": null,
            "overflow_x": null,
            "overflow_y": null,
            "padding": null,
            "right": null,
            "top": null,
            "visibility": null,
            "width": null
          }
        },
        "a31430cc57d249068e85506f7bc549cd": {
          "model_module": "@jupyter-widgets/base",
          "model_name": "LayoutModel",
          "model_module_version": "1.2.0",
          "state": {
            "_model_module": "@jupyter-widgets/base",
            "_model_module_version": "1.2.0",
            "_model_name": "LayoutModel",
            "_view_count": null,
            "_view_module": "@jupyter-widgets/base",
            "_view_module_version": "1.2.0",
            "_view_name": "LayoutView",
            "align_content": null,
            "align_items": null,
            "align_self": null,
            "border": null,
            "bottom": null,
            "display": null,
            "flex": null,
            "flex_flow": null,
            "grid_area": null,
            "grid_auto_columns": null,
            "grid_auto_flow": null,
            "grid_auto_rows": null,
            "grid_column": null,
            "grid_gap": null,
            "grid_row": null,
            "grid_template_areas": null,
            "grid_template_columns": null,
            "grid_template_rows": null,
            "height": null,
            "justify_content": null,
            "justify_items": null,
            "left": null,
            "margin": null,
            "max_height": null,
            "max_width": null,
            "min_height": null,
            "min_width": null,
            "object_fit": null,
            "object_position": null,
            "order": null,
            "overflow": null,
            "overflow_x": null,
            "overflow_y": null,
            "padding": null,
            "right": null,
            "top": null,
            "visibility": null,
            "width": null
          }
        },
        "e57ef86a28b44fbbaabc4fab097bbeea": {
          "model_module": "@jupyter-widgets/controls",
          "model_name": "DescriptionStyleModel",
          "model_module_version": "1.5.0",
          "state": {
            "_model_module": "@jupyter-widgets/controls",
            "_model_module_version": "1.5.0",
            "_model_name": "DescriptionStyleModel",
            "_view_count": null,
            "_view_module": "@jupyter-widgets/base",
            "_view_module_version": "1.2.0",
            "_view_name": "StyleView",
            "description_width": ""
          }
        },
        "ebf4a7b24cac4f9692f39fb76ba36ab9": {
          "model_module": "@jupyter-widgets/base",
          "model_name": "LayoutModel",
          "model_module_version": "1.2.0",
          "state": {
            "_model_module": "@jupyter-widgets/base",
            "_model_module_version": "1.2.0",
            "_model_name": "LayoutModel",
            "_view_count": null,
            "_view_module": "@jupyter-widgets/base",
            "_view_module_version": "1.2.0",
            "_view_name": "LayoutView",
            "align_content": null,
            "align_items": null,
            "align_self": null,
            "border": null,
            "bottom": null,
            "display": null,
            "flex": null,
            "flex_flow": null,
            "grid_area": null,
            "grid_auto_columns": null,
            "grid_auto_flow": null,
            "grid_auto_rows": null,
            "grid_column": null,
            "grid_gap": null,
            "grid_row": null,
            "grid_template_areas": null,
            "grid_template_columns": null,
            "grid_template_rows": null,
            "height": null,
            "justify_content": null,
            "justify_items": null,
            "left": null,
            "margin": null,
            "max_height": null,
            "max_width": null,
            "min_height": null,
            "min_width": null,
            "object_fit": null,
            "object_position": null,
            "order": null,
            "overflow": null,
            "overflow_x": null,
            "overflow_y": null,
            "padding": null,
            "right": null,
            "top": null,
            "visibility": null,
            "width": null
          }
        },
        "89733c3ad2c443c2bbb88848909fd7f1": {
          "model_module": "@jupyter-widgets/controls",
          "model_name": "ButtonStyleModel",
          "model_module_version": "1.5.0",
          "state": {
            "_model_module": "@jupyter-widgets/controls",
            "_model_module_version": "1.5.0",
            "_model_name": "ButtonStyleModel",
            "_view_count": null,
            "_view_module": "@jupyter-widgets/base",
            "_view_module_version": "1.2.0",
            "_view_name": "StyleView",
            "button_color": null,
            "font_weight": ""
          }
        }
      }
    }
  },
  "cells": [
    {
      "cell_type": "markdown",
      "metadata": {
        "id": "view-in-github",
        "colab_type": "text"
      },
      "source": [
        "<a href=\"https://colab.research.google.com/github/BeginnerCoderEurope/njust-cctd_machinewear_classifier/blob/main/Deployment_DL_Machinewear.ipynb\" target=\"_parent\"><img src=\"https://colab.research.google.com/assets/colab-badge.svg\" alt=\"Open In Colab\"/></a>"
      ]
    },
    {
      "cell_type": "code",
      "execution_count": null,
      "metadata": {
        "colab": {
          "base_uri": "https://localhost:8080/"
        },
        "id": "PTEmbcNQftt5",
        "outputId": "8ba02c4d-3bbc-44bc-e140-263915e2688c"
      },
      "outputs": [
        {
          "output_type": "stream",
          "name": "stdout",
          "text": [
            "\u001b[2K     \u001b[90m━━━━━━━━━━━━━━━━━━━━━━━━━━━━━━━━━━━━━━━\u001b[0m \u001b[32m719.8/719.8 kB\u001b[0m \u001b[31m9.0 MB/s\u001b[0m eta \u001b[36m0:00:00\u001b[0m\n",
            "\u001b[2K     \u001b[90m━━━━━━━━━━━━━━━━━━━━━━━━━━━━━━━━━━━━━━━━\u001b[0m \u001b[32m7.7/7.7 MB\u001b[0m \u001b[31m75.3 MB/s\u001b[0m eta \u001b[36m0:00:00\u001b[0m\n",
            "\u001b[2K     \u001b[90m━━━━━━━━━━━━━━━━━━━━━━━━━━━━━━━━━━━━━━\u001b[0m \u001b[32m519.6/519.6 kB\u001b[0m \u001b[31m46.9 MB/s\u001b[0m eta \u001b[36m0:00:00\u001b[0m\n",
            "\u001b[2K     \u001b[90m━━━━━━━━━━━━━━━━━━━━━━━━━━━━━━━━━━━━━━━━\u001b[0m \u001b[32m1.3/1.3 MB\u001b[0m \u001b[31m66.4 MB/s\u001b[0m eta \u001b[36m0:00:00\u001b[0m\n",
            "\u001b[2K     \u001b[90m━━━━━━━━━━━━━━━━━━━━━━━━━━━━━━━━━━━━━━\u001b[0m \u001b[32m115.3/115.3 kB\u001b[0m \u001b[31m14.2 MB/s\u001b[0m eta \u001b[36m0:00:00\u001b[0m\n",
            "\u001b[2K     \u001b[90m━━━━━━━━━━━━━━━━━━━━━━━━━━━━━━━━━━━━━━\u001b[0m \u001b[32m194.1/194.1 kB\u001b[0m \u001b[31m12.8 MB/s\u001b[0m eta \u001b[36m0:00:00\u001b[0m\n",
            "\u001b[2K     \u001b[90m━━━━━━━━━━━━━━━━━━━━━━━━━━━━━━━━━━━━━━\u001b[0m \u001b[32m134.8/134.8 kB\u001b[0m \u001b[31m15.9 MB/s\u001b[0m eta \u001b[36m0:00:00\u001b[0m\n",
            "\u001b[2K     \u001b[90m━━━━━━━━━━━━━━━━━━━━━━━━━━━━━━━━━━━━━━\u001b[0m \u001b[32m302.0/302.0 kB\u001b[0m \u001b[31m27.5 MB/s\u001b[0m eta \u001b[36m0:00:00\u001b[0m\n",
            "\u001b[2K     \u001b[90m━━━━━━━━━━━━━━━━━━━━━━━━━━━━━━━━━━━━━━━━\u001b[0m \u001b[32m3.8/3.8 MB\u001b[0m \u001b[31m87.3 MB/s\u001b[0m eta \u001b[36m0:00:00\u001b[0m\n",
            "\u001b[2K     \u001b[90m━━━━━━━━━━━━━━━━━━━━━━━━━━━━━━━━━━━━━━━━\u001b[0m \u001b[32m1.3/1.3 MB\u001b[0m \u001b[31m36.2 MB/s\u001b[0m eta \u001b[36m0:00:00\u001b[0m\n",
            "\u001b[2K     \u001b[90m━━━━━━━━━━━━━━━━━━━━━━━━━━━━━━━━━━━━━━━━\u001b[0m \u001b[32m1.6/1.6 MB\u001b[0m \u001b[31m69.2 MB/s\u001b[0m eta \u001b[36m0:00:00\u001b[0m\n",
            "\u001b[2K     \u001b[90m━━━━━━━━━━━━━━━━━━━━━━━━━━━━━━━━━━━━━━\u001b[0m \u001b[32m295.0/295.0 kB\u001b[0m \u001b[31m31.9 MB/s\u001b[0m eta \u001b[36m0:00:00\u001b[0m\n",
            "\u001b[?25hMounted at /content/gdrive\n"
          ]
        }
      ],
      "source": [
        "! [ -e /content ] && pip install -Uqq fastbook\n",
        "import fastbook\n",
        "fastbook.setup_book()"
      ]
    },
    {
      "cell_type": "code",
      "source": [
        "from fastbook import *\n",
        "from fastai.vision.widgets import *\n"
      ],
      "metadata": {
        "id": "tyi0C5q_fuj1"
      },
      "execution_count": null,
      "outputs": []
    },
    {
      "cell_type": "code",
      "source": [
        "from pathlib import Path"
      ],
      "metadata": {
        "id": "UeKkQTxjf_4k"
      },
      "execution_count": null,
      "outputs": []
    },
    {
      "cell_type": "code",
      "source": [
        "path=Path(\"/content/gdrive/MyDrive/Colab Notebooks/export.pkl\")"
      ],
      "metadata": {
        "id": "yr2PHOSagBHA"
      },
      "execution_count": null,
      "outputs": []
    },
    {
      "cell_type": "code",
      "source": [
        "learn_inf = load_learner(path)"
      ],
      "metadata": {
        "id": "9xcJg358gE1E"
      },
      "execution_count": null,
      "outputs": []
    },
    {
      "cell_type": "code",
      "source": [
        "!pip install voila\n",
        "!jupyter serverextension enable --sys-prefix voila"
      ],
      "metadata": {
        "colab": {
          "base_uri": "https://localhost:8080/",
          "height": 1000
        },
        "id": "9_iAZhNygGax",
        "outputId": "4390c0ac-78b0-4646-86a7-5f3930f19a66"
      },
      "execution_count": null,
      "outputs": [
        {
          "output_type": "stream",
          "name": "stdout",
          "text": [
            "Collecting voila\n",
            "  Downloading voila-0.5.4-py3-none-any.whl (3.3 MB)\n",
            "\u001b[2K     \u001b[90m━━━━━━━━━━━━━━━━━━━━━━━━━━━━━━━━━━━━━━━━\u001b[0m \u001b[32m3.3/3.3 MB\u001b[0m \u001b[31m22.5 MB/s\u001b[0m eta \u001b[36m0:00:00\u001b[0m\n",
            "\u001b[?25hCollecting jupyter-client<9,>=7.4.4 (from voila)\n",
            "  Downloading jupyter_client-8.4.0-py3-none-any.whl (103 kB)\n",
            "\u001b[2K     \u001b[90m━━━━━━━━━━━━━━━━━━━━━━━━━━━━━━━━━━━━━━\u001b[0m \u001b[32m104.0/104.0 kB\u001b[0m \u001b[31m11.6 MB/s\u001b[0m eta \u001b[36m0:00:00\u001b[0m\n",
            "\u001b[?25hRequirement already satisfied: jupyter-core>=4.11.0 in /usr/local/lib/python3.10/dist-packages (from voila) (5.3.2)\n",
            "Collecting jupyter-server<3,>=2.0.0 (from voila)\n",
            "  Downloading jupyter_server-2.7.3-py3-none-any.whl (375 kB)\n",
            "\u001b[2K     \u001b[90m━━━━━━━━━━━━━━━━━━━━━━━━━━━━━━━━━━━━━━\u001b[0m \u001b[32m375.6/375.6 kB\u001b[0m \u001b[31m32.6 MB/s\u001b[0m eta \u001b[36m0:00:00\u001b[0m\n",
            "\u001b[?25hCollecting jupyterlab-server<3,>=2.3.0 (from voila)\n",
            "  Downloading jupyterlab_server-2.25.0-py3-none-any.whl (57 kB)\n",
            "\u001b[2K     \u001b[90m━━━━━━━━━━━━━━━━━━━━━━━━━━━━━━━━━━━━━━━━\u001b[0m \u001b[32m57.2/57.2 kB\u001b[0m \u001b[31m7.0 MB/s\u001b[0m eta \u001b[36m0:00:00\u001b[0m\n",
            "\u001b[?25hCollecting nbclient<0.8,>=0.4.0 (from voila)\n",
            "  Downloading nbclient-0.7.4-py3-none-any.whl (73 kB)\n",
            "\u001b[2K     \u001b[90m━━━━━━━━━━━━━━━━━━━━━━━━━━━━━━━━━━━━━━━━\u001b[0m \u001b[32m73.1/73.1 kB\u001b[0m \u001b[31m8.4 MB/s\u001b[0m eta \u001b[36m0:00:00\u001b[0m\n",
            "\u001b[?25hRequirement already satisfied: nbconvert<8,>=6.4.5 in /usr/local/lib/python3.10/dist-packages (from voila) (6.5.4)\n",
            "Requirement already satisfied: traitlets<6,>=5.0.3 in /usr/local/lib/python3.10/dist-packages (from voila) (5.7.1)\n",
            "Collecting websockets>=9.0 (from voila)\n",
            "  Downloading websockets-11.0.3-cp310-cp310-manylinux_2_5_x86_64.manylinux1_x86_64.manylinux_2_17_x86_64.manylinux2014_x86_64.whl (129 kB)\n",
            "\u001b[2K     \u001b[90m━━━━━━━━━━━━━━━━━━━━━━━━━━━━━━━━━━━━━━\u001b[0m \u001b[32m129.9/129.9 kB\u001b[0m \u001b[31m16.7 MB/s\u001b[0m eta \u001b[36m0:00:00\u001b[0m\n",
            "\u001b[?25hRequirement already satisfied: python-dateutil>=2.8.2 in /usr/local/lib/python3.10/dist-packages (from jupyter-client<9,>=7.4.4->voila) (2.8.2)\n",
            "Requirement already satisfied: pyzmq>=23.0 in /usr/local/lib/python3.10/dist-packages (from jupyter-client<9,>=7.4.4->voila) (23.2.1)\n",
            "Requirement already satisfied: tornado>=6.2 in /usr/local/lib/python3.10/dist-packages (from jupyter-client<9,>=7.4.4->voila) (6.3.2)\n",
            "Requirement already satisfied: platformdirs>=2.5 in /usr/local/lib/python3.10/dist-packages (from jupyter-core>=4.11.0->voila) (3.11.0)\n",
            "Requirement already satisfied: anyio>=3.1.0 in /usr/local/lib/python3.10/dist-packages (from jupyter-server<3,>=2.0.0->voila) (3.7.1)\n",
            "Requirement already satisfied: argon2-cffi in /usr/local/lib/python3.10/dist-packages (from jupyter-server<3,>=2.0.0->voila) (23.1.0)\n",
            "Requirement already satisfied: jinja2 in /usr/local/lib/python3.10/dist-packages (from jupyter-server<3,>=2.0.0->voila) (3.1.2)\n",
            "Collecting jupyter-events>=0.6.0 (from jupyter-server<3,>=2.0.0->voila)\n",
            "  Downloading jupyter_events-0.7.0-py3-none-any.whl (18 kB)\n",
            "Collecting jupyter-server-terminals (from jupyter-server<3,>=2.0.0->voila)\n",
            "  Downloading jupyter_server_terminals-0.4.4-py3-none-any.whl (13 kB)\n",
            "Requirement already satisfied: nbformat>=5.3.0 in /usr/local/lib/python3.10/dist-packages (from jupyter-server<3,>=2.0.0->voila) (5.9.2)\n",
            "Collecting overrides (from jupyter-server<3,>=2.0.0->voila)\n",
            "  Downloading overrides-7.4.0-py3-none-any.whl (17 kB)\n",
            "Requirement already satisfied: packaging in /usr/local/lib/python3.10/dist-packages (from jupyter-server<3,>=2.0.0->voila) (23.2)\n",
            "Requirement already satisfied: prometheus-client in /usr/local/lib/python3.10/dist-packages (from jupyter-server<3,>=2.0.0->voila) (0.17.1)\n",
            "Collecting pyzmq>=23.0 (from jupyter-client<9,>=7.4.4->voila)\n",
            "  Downloading pyzmq-25.1.1-cp310-cp310-manylinux_2_28_x86_64.whl (1.1 MB)\n",
            "\u001b[2K     \u001b[90m━━━━━━━━━━━━━━━━━━━━━━━━━━━━━━━━━━━━━━━━\u001b[0m \u001b[32m1.1/1.1 MB\u001b[0m \u001b[31m48.3 MB/s\u001b[0m eta \u001b[36m0:00:00\u001b[0m\n",
            "\u001b[?25hRequirement already satisfied: send2trash>=1.8.2 in /usr/local/lib/python3.10/dist-packages (from jupyter-server<3,>=2.0.0->voila) (1.8.2)\n",
            "Requirement already satisfied: terminado>=0.8.3 in /usr/local/lib/python3.10/dist-packages (from jupyter-server<3,>=2.0.0->voila) (0.17.1)\n",
            "Requirement already satisfied: websocket-client in /usr/local/lib/python3.10/dist-packages (from jupyter-server<3,>=2.0.0->voila) (1.6.4)\n",
            "Requirement already satisfied: babel>=2.10 in /usr/local/lib/python3.10/dist-packages (from jupyterlab-server<3,>=2.3.0->voila) (2.13.0)\n",
            "Collecting json5>=0.9.0 (from jupyterlab-server<3,>=2.3.0->voila)\n",
            "  Downloading json5-0.9.14-py2.py3-none-any.whl (19 kB)\n",
            "Requirement already satisfied: jsonschema>=4.18.0 in /usr/local/lib/python3.10/dist-packages (from jupyterlab-server<3,>=2.3.0->voila) (4.19.1)\n",
            "Requirement already satisfied: requests>=2.31 in /usr/local/lib/python3.10/dist-packages (from jupyterlab-server<3,>=2.3.0->voila) (2.31.0)\n",
            "Requirement already satisfied: lxml in /usr/local/lib/python3.10/dist-packages (from nbconvert<8,>=6.4.5->voila) (4.9.3)\n",
            "Requirement already satisfied: beautifulsoup4 in /usr/local/lib/python3.10/dist-packages (from nbconvert<8,>=6.4.5->voila) (4.11.2)\n",
            "Requirement already satisfied: bleach in /usr/local/lib/python3.10/dist-packages (from nbconvert<8,>=6.4.5->voila) (6.1.0)\n",
            "Requirement already satisfied: defusedxml in /usr/local/lib/python3.10/dist-packages (from nbconvert<8,>=6.4.5->voila) (0.7.1)\n",
            "Requirement already satisfied: entrypoints>=0.2.2 in /usr/local/lib/python3.10/dist-packages (from nbconvert<8,>=6.4.5->voila) (0.4)\n",
            "Requirement already satisfied: jupyterlab-pygments in /usr/local/lib/python3.10/dist-packages (from nbconvert<8,>=6.4.5->voila) (0.2.2)\n",
            "Requirement already satisfied: MarkupSafe>=2.0 in /usr/local/lib/python3.10/dist-packages (from nbconvert<8,>=6.4.5->voila) (2.1.3)\n",
            "Requirement already satisfied: mistune<2,>=0.8.1 in /usr/local/lib/python3.10/dist-packages (from nbconvert<8,>=6.4.5->voila) (0.8.4)\n",
            "Requirement already satisfied: pandocfilters>=1.4.1 in /usr/local/lib/python3.10/dist-packages (from nbconvert<8,>=6.4.5->voila) (1.5.0)\n",
            "Requirement already satisfied: pygments>=2.4.1 in /usr/local/lib/python3.10/dist-packages (from nbconvert<8,>=6.4.5->voila) (2.16.1)\n",
            "Requirement already satisfied: tinycss2 in /usr/local/lib/python3.10/dist-packages (from nbconvert<8,>=6.4.5->voila) (1.2.1)\n",
            "Requirement already satisfied: idna>=2.8 in /usr/local/lib/python3.10/dist-packages (from anyio>=3.1.0->jupyter-server<3,>=2.0.0->voila) (3.4)\n",
            "Requirement already satisfied: sniffio>=1.1 in /usr/local/lib/python3.10/dist-packages (from anyio>=3.1.0->jupyter-server<3,>=2.0.0->voila) (1.3.0)\n",
            "Requirement already satisfied: exceptiongroup in /usr/local/lib/python3.10/dist-packages (from anyio>=3.1.0->jupyter-server<3,>=2.0.0->voila) (1.1.3)\n",
            "Requirement already satisfied: attrs>=22.2.0 in /usr/local/lib/python3.10/dist-packages (from jsonschema>=4.18.0->jupyterlab-server<3,>=2.3.0->voila) (23.1.0)\n",
            "Requirement already satisfied: jsonschema-specifications>=2023.03.6 in /usr/local/lib/python3.10/dist-packages (from jsonschema>=4.18.0->jupyterlab-server<3,>=2.3.0->voila) (2023.7.1)\n",
            "Requirement already satisfied: referencing>=0.28.4 in /usr/local/lib/python3.10/dist-packages (from jsonschema>=4.18.0->jupyterlab-server<3,>=2.3.0->voila) (0.30.2)\n",
            "Requirement already satisfied: rpds-py>=0.7.1 in /usr/local/lib/python3.10/dist-packages (from jsonschema>=4.18.0->jupyterlab-server<3,>=2.3.0->voila) (0.10.4)\n",
            "Collecting python-json-logger>=2.0.4 (from jupyter-events>=0.6.0->jupyter-server<3,>=2.0.0->voila)\n",
            "  Downloading python_json_logger-2.0.7-py3-none-any.whl (8.1 kB)\n",
            "Requirement already satisfied: pyyaml>=5.3 in /usr/local/lib/python3.10/dist-packages (from jupyter-events>=0.6.0->jupyter-server<3,>=2.0.0->voila) (6.0.1)\n",
            "Collecting rfc3339-validator (from jupyter-events>=0.6.0->jupyter-server<3,>=2.0.0->voila)\n",
            "  Downloading rfc3339_validator-0.1.4-py2.py3-none-any.whl (3.5 kB)\n",
            "Collecting rfc3986-validator>=0.1.1 (from jupyter-events>=0.6.0->jupyter-server<3,>=2.0.0->voila)\n",
            "  Downloading rfc3986_validator-0.1.1-py2.py3-none-any.whl (4.2 kB)\n",
            "Requirement already satisfied: fastjsonschema in /usr/local/lib/python3.10/dist-packages (from nbformat>=5.3.0->jupyter-server<3,>=2.0.0->voila) (2.18.1)\n",
            "Requirement already satisfied: six>=1.5 in /usr/local/lib/python3.10/dist-packages (from python-dateutil>=2.8.2->jupyter-client<9,>=7.4.4->voila) (1.16.0)\n",
            "Requirement already satisfied: charset-normalizer<4,>=2 in /usr/local/lib/python3.10/dist-packages (from requests>=2.31->jupyterlab-server<3,>=2.3.0->voila) (3.3.0)\n",
            "Requirement already satisfied: urllib3<3,>=1.21.1 in /usr/local/lib/python3.10/dist-packages (from requests>=2.31->jupyterlab-server<3,>=2.3.0->voila) (2.0.6)\n",
            "Requirement already satisfied: certifi>=2017.4.17 in /usr/local/lib/python3.10/dist-packages (from requests>=2.31->jupyterlab-server<3,>=2.3.0->voila) (2023.7.22)\n",
            "Requirement already satisfied: ptyprocess in /usr/local/lib/python3.10/dist-packages (from terminado>=0.8.3->jupyter-server<3,>=2.0.0->voila) (0.7.0)\n",
            "Requirement already satisfied: argon2-cffi-bindings in /usr/local/lib/python3.10/dist-packages (from argon2-cffi->jupyter-server<3,>=2.0.0->voila) (21.2.0)\n",
            "Requirement already satisfied: soupsieve>1.2 in /usr/local/lib/python3.10/dist-packages (from beautifulsoup4->nbconvert<8,>=6.4.5->voila) (2.5)\n",
            "Requirement already satisfied: webencodings in /usr/local/lib/python3.10/dist-packages (from bleach->nbconvert<8,>=6.4.5->voila) (0.5.1)\n",
            "Collecting fqdn (from jsonschema>=4.18.0->jupyterlab-server<3,>=2.3.0->voila)\n",
            "  Downloading fqdn-1.5.1-py3-none-any.whl (9.1 kB)\n",
            "Collecting isoduration (from jsonschema>=4.18.0->jupyterlab-server<3,>=2.3.0->voila)\n",
            "  Downloading isoduration-20.11.0-py3-none-any.whl (11 kB)\n",
            "Collecting jsonpointer>1.13 (from jsonschema>=4.18.0->jupyterlab-server<3,>=2.3.0->voila)\n",
            "  Downloading jsonpointer-2.4-py2.py3-none-any.whl (7.8 kB)\n",
            "Collecting uri-template (from jsonschema>=4.18.0->jupyterlab-server<3,>=2.3.0->voila)\n",
            "  Downloading uri_template-1.3.0-py3-none-any.whl (11 kB)\n",
            "Requirement already satisfied: webcolors>=1.11 in /usr/local/lib/python3.10/dist-packages (from jsonschema>=4.18.0->jupyterlab-server<3,>=2.3.0->voila) (1.13)\n",
            "Requirement already satisfied: cffi>=1.0.1 in /usr/local/lib/python3.10/dist-packages (from argon2-cffi-bindings->argon2-cffi->jupyter-server<3,>=2.0.0->voila) (1.16.0)\n",
            "Requirement already satisfied: pycparser in /usr/local/lib/python3.10/dist-packages (from cffi>=1.0.1->argon2-cffi-bindings->argon2-cffi->jupyter-server<3,>=2.0.0->voila) (2.21)\n",
            "Collecting arrow>=0.15.0 (from isoduration->jsonschema>=4.18.0->jupyterlab-server<3,>=2.3.0->voila)\n",
            "  Downloading arrow-1.3.0-py3-none-any.whl (66 kB)\n",
            "\u001b[2K     \u001b[90m━━━━━━━━━━━━━━━━━━━━━━━━━━━━━━━━━━━━━━━━\u001b[0m \u001b[32m66.4/66.4 kB\u001b[0m \u001b[31m8.2 MB/s\u001b[0m eta \u001b[36m0:00:00\u001b[0m\n",
            "\u001b[?25hCollecting types-python-dateutil>=2.8.10 (from arrow>=0.15.0->isoduration->jsonschema>=4.18.0->jupyterlab-server<3,>=2.3.0->voila)\n",
            "  Downloading types_python_dateutil-2.8.19.14-py3-none-any.whl (9.4 kB)\n",
            "Installing collected packages: types-python-dateutil, json5, websockets, uri-template, rfc3986-validator, rfc3339-validator, pyzmq, python-json-logger, overrides, jsonpointer, fqdn, jupyter-server-terminals, jupyter-client, arrow, isoduration, nbclient, jupyter-events, jupyter-server, jupyterlab-server, voila\n",
            "  Attempting uninstall: pyzmq\n",
            "    Found existing installation: pyzmq 23.2.1\n",
            "    Uninstalling pyzmq-23.2.1:\n",
            "      Successfully uninstalled pyzmq-23.2.1\n",
            "  Attempting uninstall: jupyter-client\n",
            "    Found existing installation: jupyter-client 6.1.12\n",
            "    Uninstalling jupyter-client-6.1.12:\n",
            "      Successfully uninstalled jupyter-client-6.1.12\n",
            "  Attempting uninstall: nbclient\n",
            "    Found existing installation: nbclient 0.8.0\n",
            "    Uninstalling nbclient-0.8.0:\n",
            "      Successfully uninstalled nbclient-0.8.0\n",
            "  Attempting uninstall: jupyter-server\n",
            "    Found existing installation: jupyter-server 1.24.0\n",
            "    Uninstalling jupyter-server-1.24.0:\n",
            "      Successfully uninstalled jupyter-server-1.24.0\n",
            "\u001b[31mERROR: pip's dependency resolver does not currently take into account all the packages that are installed. This behaviour is the source of the following dependency conflicts.\n",
            "notebook 6.5.5 requires jupyter-client<8,>=5.3.4, but you have jupyter-client 8.4.0 which is incompatible.\n",
            "notebook 6.5.5 requires pyzmq<25,>=17, but you have pyzmq 25.1.1 which is incompatible.\u001b[0m\u001b[31m\n",
            "\u001b[0mSuccessfully installed arrow-1.3.0 fqdn-1.5.1 isoduration-20.11.0 json5-0.9.14 jsonpointer-2.4 jupyter-client-8.4.0 jupyter-events-0.7.0 jupyter-server-2.7.3 jupyter-server-terminals-0.4.4 jupyterlab-server-2.25.0 nbclient-0.7.4 overrides-7.4.0 python-json-logger-2.0.7 pyzmq-25.1.1 rfc3339-validator-0.1.4 rfc3986-validator-0.1.1 types-python-dateutil-2.8.19.14 uri-template-1.3.0 voila-0.5.4 websockets-11.0.3\n"
          ]
        },
        {
          "output_type": "display_data",
          "data": {
            "application/vnd.colab-display-data+json": {
              "pip_warning": {
                "packages": [
                  "zmq"
                ]
              }
            }
          },
          "metadata": {}
        },
        {
          "output_type": "stream",
          "name": "stdout",
          "text": [
            "Enabling: voila\n",
            "- Writing config: /usr/etc/jupyter\n",
            "    - Validating...\n",
            "      voila 0.5.4 \u001b[32mOK\u001b[0m\n"
          ]
        }
      ]
    },
    {
      "cell_type": "code",
      "source": [
        "btn_upload = widgets.FileUpload()\n",
        "btn_upload"
      ],
      "metadata": {
        "colab": {
          "base_uri": "https://localhost:8080/",
          "height": 49,
          "referenced_widgets": [
            "fe5aec659fc04cd6bec494030413dee2",
            "954f0e3576b64d578fab82b6eb288628",
            "82e0f189d124462e9208ef378761f190"
          ]
        },
        "id": "fX2GU3t2gOD-",
        "outputId": "b7f088e5-e71e-40ae-ef72-16cc92a6c865"
      },
      "execution_count": 22,
      "outputs": [
        {
          "output_type": "display_data",
          "data": {
            "text/plain": [
              "FileUpload(value={}, description='Upload')"
            ],
            "application/vnd.jupyter.widget-view+json": {
              "version_major": 2,
              "version_minor": 0,
              "model_id": "fe5aec659fc04cd6bec494030413dee2"
            }
          },
          "metadata": {}
        }
      ]
    },
    {
      "cell_type": "code",
      "source": [
        "img = PILImage.create(btn_upload.data[-1])"
      ],
      "metadata": {
        "id": "pflCzcsogdLa"
      },
      "execution_count": 24,
      "outputs": []
    },
    {
      "cell_type": "code",
      "source": [
        "out_pl = widgets.Output()\n",
        "out_pl.clear_output()\n",
        "with out_pl: display(img.to_thumb(128,128))\n",
        "out_pl"
      ],
      "metadata": {
        "colab": {
          "base_uri": "https://localhost:8080/",
          "height": 94,
          "referenced_widgets": [
            "890f12a39c4549139ad5eeb0b30d5703",
            "0f7982075af8445db0f54fb95c62ec61"
          ]
        },
        "id": "u3pAStcqgaOP",
        "outputId": "8661db44-ef31-46b8-b933-28da57686d1b"
      },
      "execution_count": 25,
      "outputs": [
        {
          "output_type": "display_data",
          "data": {
            "text/plain": [
              "Output()"
            ],
            "application/vnd.jupyter.widget-view+json": {
              "version_major": 2,
              "version_minor": 0,
              "model_id": "890f12a39c4549139ad5eeb0b30d5703"
            }
          },
          "metadata": {}
        }
      ]
    },
    {
      "cell_type": "code",
      "source": [
        "pred,pred_idx,probs = learn_inf.predict(img)"
      ],
      "metadata": {
        "id": "wwltlWljgkIT",
        "colab": {
          "base_uri": "https://localhost:8080/",
          "height": 17
        },
        "outputId": "e3662969-9e28-4632-af37-378d8f5271a4"
      },
      "execution_count": 26,
      "outputs": [
        {
          "output_type": "display_data",
          "data": {
            "text/plain": [
              "<IPython.core.display.HTML object>"
            ],
            "text/html": [
              "\n",
              "<style>\n",
              "    /* Turns off some styling */\n",
              "    progress {\n",
              "        /* gets rid of default border in Firefox and Opera. */\n",
              "        border: none;\n",
              "        /* Needs to be in here for Safari polyfill so background images work as expected. */\n",
              "        background-size: auto;\n",
              "    }\n",
              "    progress:not([value]), progress:not([value])::-webkit-progress-bar {\n",
              "        background: repeating-linear-gradient(45deg, #7e7e7e, #7e7e7e 10px, #5c5c5c 10px, #5c5c5c 20px);\n",
              "    }\n",
              "    .progress-bar-interrupted, .progress-bar-interrupted::-webkit-progress-bar {\n",
              "        background: #F44336;\n",
              "    }\n",
              "</style>\n"
            ]
          },
          "metadata": {}
        },
        {
          "output_type": "display_data",
          "data": {
            "text/plain": [
              "<IPython.core.display.HTML object>"
            ],
            "text/html": []
          },
          "metadata": {}
        }
      ]
    },
    {
      "cell_type": "code",
      "source": [
        "lbl_pred = widgets.Label()\n",
        "lbl_pred.value = f'Prediction: {pred}; Probability: {probs[pred_idx]:.04f}'\n",
        "lbl_pred"
      ],
      "metadata": {
        "colab": {
          "base_uri": "https://localhost:8080/",
          "height": 49,
          "referenced_widgets": [
            "744e1e70203a4b40be3b59cda979030d",
            "4e5eb3dba1744be0a001961f1ea2ab07",
            "7b71e74df49c4c59a27bca95c21e310f"
          ]
        },
        "id": "q7VsSiD0h0OU",
        "outputId": "edda555c-3bf3-4765-97b6-975c215731dc"
      },
      "execution_count": 27,
      "outputs": [
        {
          "output_type": "display_data",
          "data": {
            "text/plain": [
              "Label(value='Prediction: no-wear_tools; Probability: 0.9844')"
            ],
            "application/vnd.jupyter.widget-view+json": {
              "version_major": 2,
              "version_minor": 0,
              "model_id": "744e1e70203a4b40be3b59cda979030d"
            }
          },
          "metadata": {}
        }
      ]
    },
    {
      "cell_type": "code",
      "source": [
        "btn_run = widgets.Button(description='Classify')\n",
        "btn_run"
      ],
      "metadata": {
        "colab": {
          "base_uri": "https://localhost:8080/",
          "height": 49,
          "referenced_widgets": [
            "4079f409808b4bf498baf3d6fdeace87",
            "44cbcdb009684f7bba5a3508da6660c9",
            "74ddbd513ee14f8aa825b90cfb8da4a9"
          ]
        },
        "id": "Q4fWcTjrh2Zn",
        "outputId": "42e800d9-4d08-45d0-e1b4-a02bfba7b1f0"
      },
      "execution_count": 28,
      "outputs": [
        {
          "output_type": "display_data",
          "data": {
            "text/plain": [
              "Button(description='Classify', style=ButtonStyle())"
            ],
            "application/vnd.jupyter.widget-view+json": {
              "version_major": 2,
              "version_minor": 0,
              "model_id": "4079f409808b4bf498baf3d6fdeace87"
            }
          },
          "metadata": {}
        }
      ]
    },
    {
      "cell_type": "code",
      "source": [
        "def on_click_classify(change):\n",
        "    img = PILImage.create(btn_upload.data[-1])\n",
        "    out_pl.clear_output()\n",
        "    with out_pl: display(img.to_thumb(128,128))\n",
        "    pred,pred_idx,probs = learn_inf.predict(img)\n",
        "    lbl_pred.value = f'Prediction: {pred}; Probability: {probs[pred_idx]:.04f}'"
      ],
      "metadata": {
        "id": "x4LBTokmh-7P"
      },
      "execution_count": 29,
      "outputs": []
    },
    {
      "cell_type": "code",
      "source": [
        "btn_run.on_click(on_click_classify)"
      ],
      "metadata": {
        "id": "t27lkaYwiCe0"
      },
      "execution_count": 30,
      "outputs": []
    },
    {
      "cell_type": "code",
      "source": [
        "btn_upload = widgets.FileUpload()"
      ],
      "metadata": {
        "id": "qJPUNLNuiEcm"
      },
      "execution_count": 31,
      "outputs": []
    },
    {
      "cell_type": "code",
      "source": [
        "VBox([widgets.Label('Verschleiß oder kein Verschleiß?'),\n",
        "      btn_upload, btn_run, out_pl, lbl_pred])"
      ],
      "metadata": {
        "colab": {
          "base_uri": "https://localhost:8080/",
          "height": 222,
          "referenced_widgets": [
            "8804471997084ec1880104f7f76e8172",
            "f9666caaca974aefb893ccdd44c204d7",
            "ac9d623388004e1c9b052f8c37b7d682",
            "4079f409808b4bf498baf3d6fdeace87",
            "890f12a39c4549139ad5eeb0b30d5703",
            "744e1e70203a4b40be3b59cda979030d",
            "7077027ec81241ff9a8a87571b2423d8",
            "a31430cc57d249068e85506f7bc549cd",
            "e57ef86a28b44fbbaabc4fab097bbeea",
            "ebf4a7b24cac4f9692f39fb76ba36ab9",
            "89733c3ad2c443c2bbb88848909fd7f1",
            "44cbcdb009684f7bba5a3508da6660c9",
            "74ddbd513ee14f8aa825b90cfb8da4a9",
            "4e5eb3dba1744be0a001961f1ea2ab07",
            "7b71e74df49c4c59a27bca95c21e310f",
            "0f7982075af8445db0f54fb95c62ec61"
          ]
        },
        "id": "VaJSxXaQiKsM",
        "outputId": "eaf7e03d-dedb-4ba8-e7af-a792fa0422af"
      },
      "execution_count": 32,
      "outputs": [
        {
          "output_type": "display_data",
          "data": {
            "text/plain": [
              "VBox(children=(Label(value='Verschleiß oder kein Verschleiß?'), FileUpload(value={}, description='Upload'), Bu…"
            ],
            "application/vnd.jupyter.widget-view+json": {
              "version_major": 2,
              "version_minor": 0,
              "model_id": "8804471997084ec1880104f7f76e8172"
            }
          },
          "metadata": {}
        }
      ]
    },
    {
      "cell_type": "code",
      "source": [],
      "metadata": {
        "id": "1Hh3O6IUiSoN"
      },
      "execution_count": null,
      "outputs": []
    }
  ]
}